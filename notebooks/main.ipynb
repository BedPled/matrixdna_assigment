{
 "cells": [
  {
   "cell_type": "code",
   "execution_count": 54,
   "id": "9b54f3dd-5318-4cbc-9382-4e5b35419a52",
   "metadata": {},
   "outputs": [
    {
     "name": "stdout",
     "output_type": "stream",
     "text": [
      "✅ Данные успешно обработаны и сохранены без метаданных!\n"
     ]
    }
   ],
   "source": [
    "import pandas as pd\n",
    "import re\n",
    "from sklearn.model_selection import train_test_split\n",
    "import os\n",
    "\n",
    "# Функция для удаления метаданных и очистки текста\n",
    "def clean_text_advanced(text):\n",
    "    # Удалить технические заголовки\n",
    "    text = re.sub(r'(?i)(message-id|date|from|to|subject|mime-version|content-type|content-transfer-encoding|x-[\\w\\-]+):.*?(?=\\n|$)', '', text)\n",
    "\n",
    "    # Удалить все email-адреса\n",
    "    text = re.sub(r'\\S+@\\S+', '', text)\n",
    "\n",
    "    # Удалить URL\n",
    "    text = re.sub(r'http\\S+', '', text)\n",
    "\n",
    "    # Удалить номера телефонов\n",
    "    text = re.sub(r'\\(?\\d{3}\\)?[-.\\s]?\\d{3}[-.\\s]?\\d{4}', '', text)\n",
    "\n",
    "    # Удалить лишние пустые строки\n",
    "    text = re.sub(r'\\n+', '\\n', text)\n",
    "\n",
    "    # Оставить только тело письма — после двойного переноса строки\n",
    "    split_parts = text.split('\\n\\n', 1)\n",
    "    if len(split_parts) == 2:\n",
    "        text = split_parts[1]\n",
    "    \n",
    "    # Финальная очистка\n",
    "    text = re.sub(r'\\s+', ' ', text)\n",
    "    return text.strip().lower()\n",
    "    \n",
    "# Загружаем данные\n",
    "df = pd.read_csv('email_dataset/raw_data/emails.csv')\n",
    "\n",
    "# укажи своё название столбца, где находится исходный текст с метаданными\n",
    "text_column = 'message'  # например\n",
    "\n",
    "# Удаляем строки с пустым текстом\n",
    "df = df.dropna(subset=[text_column])\n",
    "\n",
    "# Применяем улучшенную функцию очистки\n",
    "df['clean_content'] = df[text_column].apply(clean_text_advanced)\n",
    "\n",
    "# Разделяем на наборы данных\n",
    "train_df, temp_df = train_test_split(df, test_size=0.3, random_state=42)\n",
    "validation_df, test_df = train_test_split(temp_df, test_size=0.5, random_state=42)\n",
    "\n",
    "# Сохраняем обработанные данные\n",
    "for dataset, name in zip([train_df, validation_df, test_df], ['train', 'validation', 'test']):\n",
    "    os.makedirs(f'email_dataset/{name}/', exist_ok=True)\n",
    "    dataset.to_csv(f'email_dataset/{name}/{name}_emails.csv', index=False)\n",
    "\n",
    "print(\"✅ Данные успешно обработаны и сохранены без метаданных!\")\n"
   ]
  },
  {
   "cell_type": "code",
   "execution_count": 60,
   "id": "efcabb9b-ed42-4632-a5fa-0e0bd1e33e55",
   "metadata": {},
   "outputs": [
    {
     "data": {
      "text/plain": [
       "'/Users/admin/matrixdna_assigment'"
      ]
     },
     "execution_count": 60,
     "metadata": {},
     "output_type": "execute_result"
    }
   ],
   "source": [
    "pwd"
   ]
  },
  {
   "cell_type": "code",
   "execution_count": 62,
   "id": "3ea02cd9-032f-45e2-9fc3-ad2b6dcb9e85",
   "metadata": {},
   "outputs": [],
   "source": [
    "df = pd.read_csv('email_dataset/test/test_emails.csv')\n"
   ]
  },
  {
   "cell_type": "code",
   "execution_count": 63,
   "id": "fbaf1fe8-fd9d-4384-8fbe-ba2db6f0d47e",
   "metadata": {},
   "outputs": [
    {
     "data": {
      "text/html": [
       "<div>\n",
       "<style scoped>\n",
       "    .dataframe tbody tr th:only-of-type {\n",
       "        vertical-align: middle;\n",
       "    }\n",
       "\n",
       "    .dataframe tbody tr th {\n",
       "        vertical-align: top;\n",
       "    }\n",
       "\n",
       "    .dataframe thead th {\n",
       "        text-align: right;\n",
       "    }\n",
       "</style>\n",
       "<table border=\"1\" class=\"dataframe\">\n",
       "  <thead>\n",
       "    <tr style=\"text-align: right;\">\n",
       "      <th></th>\n",
       "      <th>file</th>\n",
       "      <th>message</th>\n",
       "      <th>clean_content</th>\n",
       "    </tr>\n",
       "  </thead>\n",
       "  <tbody>\n",
       "    <tr>\n",
       "      <th>0</th>\n",
       "      <td>shackleton-s/all_documents/11241.</td>\n",
       "      <td>Message-ID: &lt;32750315.1075844755568.JavaMail.e...</td>\n",
       "      <td>hi sara, i wanted to let you know that i made ...</td>\n",
       "    </tr>\n",
       "    <tr>\n",
       "      <th>1</th>\n",
       "      <td>mann-k/all_documents/3501.</td>\n",
       "      <td>Message-ID: &lt;2206475.1075845661857.JavaMail.ev...</td>\n",
       "      <td>good one. nothing worse than an aimless off site.</td>\n",
       "    </tr>\n",
       "    <tr>\n",
       "      <th>2</th>\n",
       "      <td>davis-d/discussion_threads/454.</td>\n",
       "      <td>Message-ID: &lt;5155873.1075853960634.JavaMail.ev...</td>\n",
       "      <td>cc: bcc: rosemary, after a discussion with sta...</td>\n",
       "    </tr>\n",
       "    <tr>\n",
       "      <th>3</th>\n",
       "      <td>cuilla-m/deleted_items/556.</td>\n",
       "      <td>Message-ID: &lt;1791927.1075863019811.JavaMail.ev...</td>\n",
       "      <td>to view &amp; print you invitation please visit:</td>\n",
       "    </tr>\n",
       "    <tr>\n",
       "      <th>4</th>\n",
       "      <td>mann-k/all_documents/1127.</td>\n",
       "      <td>Message-ID: &lt;15410161.1075845602858.JavaMail.e...</td>\n",
       "      <td>this is an internal draft, which has not been ...</td>\n",
       "    </tr>\n",
       "    <tr>\n",
       "      <th>...</th>\n",
       "      <td>...</td>\n",
       "      <td>...</td>\n",
       "      <td>...</td>\n",
       "    </tr>\n",
       "    <tr>\n",
       "      <th>77606</th>\n",
       "      <td>germany-c/inbox/228.</td>\n",
       "      <td>Message-ID: &lt;6690272.1075852115668.JavaMail.ev...</td>\n",
       "      <td>what: workstation upgrade for security enhance...</td>\n",
       "    </tr>\n",
       "    <tr>\n",
       "      <th>77607</th>\n",
       "      <td>reitmeyer-j/sent_items/33.</td>\n",
       "      <td>Message-ID: &lt;7953404.1075855171343.JavaMail.ev...</td>\n",
       "      <td>i agree that we should not move the business a...</td>\n",
       "    </tr>\n",
       "    <tr>\n",
       "      <th>77608</th>\n",
       "      <td>presto-k/deleted_items/555.</td>\n",
       "      <td>Message-ID: &lt;32822028.1075852822485.JavaMail.e...</td>\n",
       "      <td>______________________________________________...</td>\n",
       "    </tr>\n",
       "    <tr>\n",
       "      <th>77609</th>\n",
       "      <td>dasovich-j/sent/11940.</td>\n",
       "      <td>Message-ID: &lt;4910874.1075849611595.JavaMail.ev...</td>\n",
       "      <td>fyi. please keep confidential until further no...</td>\n",
       "    </tr>\n",
       "    <tr>\n",
       "      <th>77610</th>\n",
       "      <td>white-s/meetings/662.</td>\n",
       "      <td>Message-ID: &lt;24188638.1075858788956.JavaMail.e...</td>\n",
       "      <td>calendar entry: appointment description: meet ...</td>\n",
       "    </tr>\n",
       "  </tbody>\n",
       "</table>\n",
       "<p>77611 rows × 3 columns</p>\n",
       "</div>"
      ],
      "text/plain": [
       "                                    file  \\\n",
       "0      shackleton-s/all_documents/11241.   \n",
       "1             mann-k/all_documents/3501.   \n",
       "2        davis-d/discussion_threads/454.   \n",
       "3            cuilla-m/deleted_items/556.   \n",
       "4             mann-k/all_documents/1127.   \n",
       "...                                  ...   \n",
       "77606               germany-c/inbox/228.   \n",
       "77607         reitmeyer-j/sent_items/33.   \n",
       "77608        presto-k/deleted_items/555.   \n",
       "77609             dasovich-j/sent/11940.   \n",
       "77610              white-s/meetings/662.   \n",
       "\n",
       "                                                 message  \\\n",
       "0      Message-ID: <32750315.1075844755568.JavaMail.e...   \n",
       "1      Message-ID: <2206475.1075845661857.JavaMail.ev...   \n",
       "2      Message-ID: <5155873.1075853960634.JavaMail.ev...   \n",
       "3      Message-ID: <1791927.1075863019811.JavaMail.ev...   \n",
       "4      Message-ID: <15410161.1075845602858.JavaMail.e...   \n",
       "...                                                  ...   \n",
       "77606  Message-ID: <6690272.1075852115668.JavaMail.ev...   \n",
       "77607  Message-ID: <7953404.1075855171343.JavaMail.ev...   \n",
       "77608  Message-ID: <32822028.1075852822485.JavaMail.e...   \n",
       "77609  Message-ID: <4910874.1075849611595.JavaMail.ev...   \n",
       "77610  Message-ID: <24188638.1075858788956.JavaMail.e...   \n",
       "\n",
       "                                           clean_content  \n",
       "0      hi sara, i wanted to let you know that i made ...  \n",
       "1      good one. nothing worse than an aimless off site.  \n",
       "2      cc: bcc: rosemary, after a discussion with sta...  \n",
       "3           to view & print you invitation please visit:  \n",
       "4      this is an internal draft, which has not been ...  \n",
       "...                                                  ...  \n",
       "77606  what: workstation upgrade for security enhance...  \n",
       "77607  i agree that we should not move the business a...  \n",
       "77608  ______________________________________________...  \n",
       "77609  fyi. please keep confidential until further no...  \n",
       "77610  calendar entry: appointment description: meet ...  \n",
       "\n",
       "[77611 rows x 3 columns]"
      ]
     },
     "execution_count": 63,
     "metadata": {},
     "output_type": "execute_result"
    }
   ],
   "source": [
    "df"
   ]
  },
  {
   "cell_type": "code",
   "execution_count": 80,
   "id": "58802565-588f-4e5c-bbcb-1dff7c82921f",
   "metadata": {},
   "outputs": [
    {
     "data": {
      "text/plain": [
       "'Message-ID: <1791927.1075863019811.JavaMail.evans@thyme>\\nDate: Tue, 20 Nov 2001 14:51:48 -0800 (PST)\\nFrom: party@kitkat.org\\nTo: mcuilla@enron.com\\nSubject: Your Kit Kat Invitation\\nMime-Version: 1.0\\nContent-Type: text/plain; charset=us-ascii\\nContent-Transfer-Encoding: 7bit\\nX-From: Kit Kat <Party@KitKat.org>\\nX-To: <mcuilla@enron.com>\\nX-cc: \\nX-bcc: \\nX-Folder: \\\\MCUILLA (Non-Privileged)\\\\Cuilla, Martin\\\\Deleted Items\\nX-Origin: Cuilla-M\\nX-FileName: MCUILLA (Non-Privileged).pst\\n\\nTo view & print you invitation please visit:\\n\\nhttp://www.kitkat.org/emailblast/KITKAT_BOAKA_INVITE.htm\\n\\n\\n'"
      ]
     },
     "execution_count": 80,
     "metadata": {},
     "output_type": "execute_result"
    }
   ],
   "source": [
    "df['message'][3]"
   ]
  },
  {
   "cell_type": "code",
   "execution_count": 78,
   "id": "03cb9f29-b592-410f-9261-42e1b09a1005",
   "metadata": {},
   "outputs": [
    {
     "data": {
      "text/plain": [
       "'to view & print you invitation please visit:'"
      ]
     },
     "execution_count": 78,
     "metadata": {},
     "output_type": "execute_result"
    }
   ],
   "source": [
    "df['clean_content'][3]"
   ]
  },
  {
   "cell_type": "code",
   "execution_count": null,
   "id": "ae1f42a5-1635-4d82-9e43-1d3424037d5f",
   "metadata": {},
   "outputs": [],
   "source": []
  }
 ],
 "metadata": {
  "kernelspec": {
   "display_name": "Python 3 (ipykernel)",
   "language": "python",
   "name": "python3"
  },
  "language_info": {
   "codemirror_mode": {
    "name": "ipython",
    "version": 3
   },
   "file_extension": ".py",
   "mimetype": "text/x-python",
   "name": "python",
   "nbconvert_exporter": "python",
   "pygments_lexer": "ipython3",
   "version": "3.12.7"
  }
 },
 "nbformat": 4,
 "nbformat_minor": 5
}
