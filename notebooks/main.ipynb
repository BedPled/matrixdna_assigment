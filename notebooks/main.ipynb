{
 "cells": [
  {
   "cell_type": "markdown",
   "id": "0b3370cc-f553-4a26-bb4b-e90fa4421f53",
   "metadata": {
    "jp-MarkdownHeadingCollapsed": true
   },
   "source": [
    "# Предобработка"
   ]
  },
  {
   "cell_type": "code",
   "execution_count": 54,
   "id": "9b54f3dd-5318-4cbc-9382-4e5b35419a52",
   "metadata": {},
   "outputs": [
    {
     "name": "stdout",
     "output_type": "stream",
     "text": [
      "✅ Данные успешно обработаны и сохранены без метаданных!\n"
     ]
    }
   ],
   "source": [
    "import pandas as pd\n",
    "import re\n",
    "from sklearn.model_selection import train_test_split\n",
    "import os\n",
    "\n",
    "# Функция для удаления метаданных и очистки текста\n",
    "def clean_text_advanced(text):\n",
    "    # Удалить технические заголовки\n",
    "    text = re.sub(r'(?i)(message-id|date|from|to|subject|mime-version|content-type|content-transfer-encoding|x-[\\w\\-]+):.*?(?=\\n|$)', '', text)\n",
    "\n",
    "    # Удалить все email-адреса\n",
    "    text = re.sub(r'\\S+@\\S+', '', text)\n",
    "\n",
    "    # Удалить URL\n",
    "    text = re.sub(r'http\\S+', '', text)\n",
    "\n",
    "    # Удалить номера телефонов\n",
    "    text = re.sub(r'\\(?\\d{3}\\)?[-.\\s]?\\d{3}[-.\\s]?\\d{4}', '', text)\n",
    "\n",
    "    # Удалить лишние пустые строки\n",
    "    text = re.sub(r'\\n+', '\\n', text)\n",
    "\n",
    "    # Оставить только тело письма — после двойного переноса строки\n",
    "    split_parts = text.split('\\n\\n', 1)\n",
    "    if len(split_parts) == 2:\n",
    "        text = split_parts[1]\n",
    "    \n",
    "    # Финальная очистка\n",
    "    text = re.sub(r'\\s+', ' ', text)\n",
    "    return text.strip().lower()\n",
    "    \n",
    "# Загружаем данные\n",
    "df = pd.read_csv('email_dataset/raw_data/emails.csv')\n",
    "\n",
    "# укажи своё название столбца, где находится исходный текст с метаданными\n",
    "text_column = 'message'  # например\n",
    "\n",
    "# Удаляем строки с пустым текстом\n",
    "df = df.dropna(subset=[text_column])\n",
    "\n",
    "# Применяем улучшенную функцию очистки\n",
    "df['clean_content'] = df[text_column].apply(clean_text_advanced)\n",
    "\n",
    "# Разделяем на наборы данных\n",
    "train_df, temp_df = train_test_split(df, test_size=0.3, random_state=42)\n",
    "validation_df, test_df = train_test_split(temp_df, test_size=0.5, random_state=42)\n",
    "\n",
    "# Сохраняем обработанные данные\n",
    "for dataset, name in zip([train_df, validation_df, test_df], ['train', 'validation', 'test']):\n",
    "    os.makedirs(f'email_dataset/{name}/', exist_ok=True)\n",
    "    dataset.to_csv(f'email_dataset/{name}/{name}_emails.csv', index=False)\n",
    "\n",
    "print(\"✅ Данные успешно обработаны и сохранены без метаданных!\")\n"
   ]
  },
  {
   "cell_type": "code",
   "execution_count": 60,
   "id": "efcabb9b-ed42-4632-a5fa-0e0bd1e33e55",
   "metadata": {},
   "outputs": [
    {
     "data": {
      "text/plain": [
       "'/Users/admin/matrixdna_assigment'"
      ]
     },
     "execution_count": 60,
     "metadata": {},
     "output_type": "execute_result"
    }
   ],
   "source": [
    "pwd"
   ]
  },
  {
   "cell_type": "code",
   "execution_count": 62,
   "id": "3ea02cd9-032f-45e2-9fc3-ad2b6dcb9e85",
   "metadata": {},
   "outputs": [],
   "source": [
    "df = pd.read_csv('email_dataset/test/test_emails.csv')\n"
   ]
  },
  {
   "cell_type": "code",
   "execution_count": 63,
   "id": "fbaf1fe8-fd9d-4384-8fbe-ba2db6f0d47e",
   "metadata": {},
   "outputs": [
    {
     "data": {
      "text/html": [
       "<div>\n",
       "<style scoped>\n",
       "    .dataframe tbody tr th:only-of-type {\n",
       "        vertical-align: middle;\n",
       "    }\n",
       "\n",
       "    .dataframe tbody tr th {\n",
       "        vertical-align: top;\n",
       "    }\n",
       "\n",
       "    .dataframe thead th {\n",
       "        text-align: right;\n",
       "    }\n",
       "</style>\n",
       "<table border=\"1\" class=\"dataframe\">\n",
       "  <thead>\n",
       "    <tr style=\"text-align: right;\">\n",
       "      <th></th>\n",
       "      <th>file</th>\n",
       "      <th>message</th>\n",
       "      <th>clean_content</th>\n",
       "    </tr>\n",
       "  </thead>\n",
       "  <tbody>\n",
       "    <tr>\n",
       "      <th>0</th>\n",
       "      <td>shackleton-s/all_documents/11241.</td>\n",
       "      <td>Message-ID: &lt;32750315.1075844755568.JavaMail.e...</td>\n",
       "      <td>hi sara, i wanted to let you know that i made ...</td>\n",
       "    </tr>\n",
       "    <tr>\n",
       "      <th>1</th>\n",
       "      <td>mann-k/all_documents/3501.</td>\n",
       "      <td>Message-ID: &lt;2206475.1075845661857.JavaMail.ev...</td>\n",
       "      <td>good one. nothing worse than an aimless off site.</td>\n",
       "    </tr>\n",
       "    <tr>\n",
       "      <th>2</th>\n",
       "      <td>davis-d/discussion_threads/454.</td>\n",
       "      <td>Message-ID: &lt;5155873.1075853960634.JavaMail.ev...</td>\n",
       "      <td>cc: bcc: rosemary, after a discussion with sta...</td>\n",
       "    </tr>\n",
       "    <tr>\n",
       "      <th>3</th>\n",
       "      <td>cuilla-m/deleted_items/556.</td>\n",
       "      <td>Message-ID: &lt;1791927.1075863019811.JavaMail.ev...</td>\n",
       "      <td>to view &amp; print you invitation please visit:</td>\n",
       "    </tr>\n",
       "    <tr>\n",
       "      <th>4</th>\n",
       "      <td>mann-k/all_documents/1127.</td>\n",
       "      <td>Message-ID: &lt;15410161.1075845602858.JavaMail.e...</td>\n",
       "      <td>this is an internal draft, which has not been ...</td>\n",
       "    </tr>\n",
       "    <tr>\n",
       "      <th>...</th>\n",
       "      <td>...</td>\n",
       "      <td>...</td>\n",
       "      <td>...</td>\n",
       "    </tr>\n",
       "    <tr>\n",
       "      <th>77606</th>\n",
       "      <td>germany-c/inbox/228.</td>\n",
       "      <td>Message-ID: &lt;6690272.1075852115668.JavaMail.ev...</td>\n",
       "      <td>what: workstation upgrade for security enhance...</td>\n",
       "    </tr>\n",
       "    <tr>\n",
       "      <th>77607</th>\n",
       "      <td>reitmeyer-j/sent_items/33.</td>\n",
       "      <td>Message-ID: &lt;7953404.1075855171343.JavaMail.ev...</td>\n",
       "      <td>i agree that we should not move the business a...</td>\n",
       "    </tr>\n",
       "    <tr>\n",
       "      <th>77608</th>\n",
       "      <td>presto-k/deleted_items/555.</td>\n",
       "      <td>Message-ID: &lt;32822028.1075852822485.JavaMail.e...</td>\n",
       "      <td>______________________________________________...</td>\n",
       "    </tr>\n",
       "    <tr>\n",
       "      <th>77609</th>\n",
       "      <td>dasovich-j/sent/11940.</td>\n",
       "      <td>Message-ID: &lt;4910874.1075849611595.JavaMail.ev...</td>\n",
       "      <td>fyi. please keep confidential until further no...</td>\n",
       "    </tr>\n",
       "    <tr>\n",
       "      <th>77610</th>\n",
       "      <td>white-s/meetings/662.</td>\n",
       "      <td>Message-ID: &lt;24188638.1075858788956.JavaMail.e...</td>\n",
       "      <td>calendar entry: appointment description: meet ...</td>\n",
       "    </tr>\n",
       "  </tbody>\n",
       "</table>\n",
       "<p>77611 rows × 3 columns</p>\n",
       "</div>"
      ],
      "text/plain": [
       "                                    file  \\\n",
       "0      shackleton-s/all_documents/11241.   \n",
       "1             mann-k/all_documents/3501.   \n",
       "2        davis-d/discussion_threads/454.   \n",
       "3            cuilla-m/deleted_items/556.   \n",
       "4             mann-k/all_documents/1127.   \n",
       "...                                  ...   \n",
       "77606               germany-c/inbox/228.   \n",
       "77607         reitmeyer-j/sent_items/33.   \n",
       "77608        presto-k/deleted_items/555.   \n",
       "77609             dasovich-j/sent/11940.   \n",
       "77610              white-s/meetings/662.   \n",
       "\n",
       "                                                 message  \\\n",
       "0      Message-ID: <32750315.1075844755568.JavaMail.e...   \n",
       "1      Message-ID: <2206475.1075845661857.JavaMail.ev...   \n",
       "2      Message-ID: <5155873.1075853960634.JavaMail.ev...   \n",
       "3      Message-ID: <1791927.1075863019811.JavaMail.ev...   \n",
       "4      Message-ID: <15410161.1075845602858.JavaMail.e...   \n",
       "...                                                  ...   \n",
       "77606  Message-ID: <6690272.1075852115668.JavaMail.ev...   \n",
       "77607  Message-ID: <7953404.1075855171343.JavaMail.ev...   \n",
       "77608  Message-ID: <32822028.1075852822485.JavaMail.e...   \n",
       "77609  Message-ID: <4910874.1075849611595.JavaMail.ev...   \n",
       "77610  Message-ID: <24188638.1075858788956.JavaMail.e...   \n",
       "\n",
       "                                           clean_content  \n",
       "0      hi sara, i wanted to let you know that i made ...  \n",
       "1      good one. nothing worse than an aimless off site.  \n",
       "2      cc: bcc: rosemary, after a discussion with sta...  \n",
       "3           to view & print you invitation please visit:  \n",
       "4      this is an internal draft, which has not been ...  \n",
       "...                                                  ...  \n",
       "77606  what: workstation upgrade for security enhance...  \n",
       "77607  i agree that we should not move the business a...  \n",
       "77608  ______________________________________________...  \n",
       "77609  fyi. please keep confidential until further no...  \n",
       "77610  calendar entry: appointment description: meet ...  \n",
       "\n",
       "[77611 rows x 3 columns]"
      ]
     },
     "execution_count": 63,
     "metadata": {},
     "output_type": "execute_result"
    }
   ],
   "source": [
    "df"
   ]
  },
  {
   "cell_type": "code",
   "execution_count": 80,
   "id": "58802565-588f-4e5c-bbcb-1dff7c82921f",
   "metadata": {},
   "outputs": [
    {
     "data": {
      "text/plain": [
       "'Message-ID: <1791927.1075863019811.JavaMail.evans@thyme>\\nDate: Tue, 20 Nov 2001 14:51:48 -0800 (PST)\\nFrom: party@kitkat.org\\nTo: mcuilla@enron.com\\nSubject: Your Kit Kat Invitation\\nMime-Version: 1.0\\nContent-Type: text/plain; charset=us-ascii\\nContent-Transfer-Encoding: 7bit\\nX-From: Kit Kat <Party@KitKat.org>\\nX-To: <mcuilla@enron.com>\\nX-cc: \\nX-bcc: \\nX-Folder: \\\\MCUILLA (Non-Privileged)\\\\Cuilla, Martin\\\\Deleted Items\\nX-Origin: Cuilla-M\\nX-FileName: MCUILLA (Non-Privileged).pst\\n\\nTo view & print you invitation please visit:\\n\\nhttp://www.kitkat.org/emailblast/KITKAT_BOAKA_INVITE.htm\\n\\n\\n'"
      ]
     },
     "execution_count": 80,
     "metadata": {},
     "output_type": "execute_result"
    }
   ],
   "source": [
    "df['message'][3]"
   ]
  },
  {
   "cell_type": "code",
   "execution_count": 78,
   "id": "03cb9f29-b592-410f-9261-42e1b09a1005",
   "metadata": {},
   "outputs": [
    {
     "data": {
      "text/plain": [
       "'to view & print you invitation please visit:'"
      ]
     },
     "execution_count": 78,
     "metadata": {},
     "output_type": "execute_result"
    }
   ],
   "source": [
    "df['clean_content'][3]"
   ]
  },
  {
   "cell_type": "markdown",
   "id": "e8dd26f4-e2ce-4a78-ba92-82f1de5c163a",
   "metadata": {},
   "source": [
    "# Классификация "
   ]
  },
  {
   "cell_type": "code",
   "execution_count": 91,
   "id": "5540d221-55e2-4c09-b788-b007469a62d2",
   "metadata": {},
   "outputs": [],
   "source": [
    "# !pip install openai python-dotenv scikit-learn matplotlib tqdm"
   ]
  },
  {
   "cell_type": "code",
   "execution_count": 3,
   "id": "99a13b38-53fb-440a-8955-358497e8984d",
   "metadata": {},
   "outputs": [
    {
     "name": "stdout",
     "output_type": "stream",
     "text": [
      "📡 Получаем эмбеддинги...\n"
     ]
    },
    {
     "name": "stderr",
     "output_type": "stream",
     "text": [
      "100%|██████████| 1000/1000 [05:47<00:00,  2.88it/s]\n"
     ]
    },
    {
     "name": "stdout",
     "output_type": "stream",
     "text": [
      "✅ Эмбеддинги и тексты сохранены!\n"
     ]
    }
   ],
   "source": [
    "import os\n",
    "import openai\n",
    "import pandas as pd\n",
    "import numpy as np\n",
    "from tqdm import tqdm\n",
    "from dotenv import load_dotenv\n",
    "\n",
    "# Загрузка API-ключа\n",
    "load_dotenv()\n",
    "api_key = os.getenv(\"OPENAI_API_KEY\")\n",
    "client = openai.OpenAI(api_key=api_key)\n",
    "\n",
    "# Загрузка подвыборки\n",
    "df = pd.read_csv(\"email_dataset/train/train_emails.csv\")\n",
    "texts = df[\"clean_content\"].dropna().sample(n=1000, random_state=42)\n",
    "\n",
    "# Сохраняем соответствие текста и индекса\n",
    "texts.reset_index(drop=True, inplace=True)\n",
    "texts_list = texts.tolist()\n",
    "\n",
    "# Получение эмбеддингов\n",
    "print(\"📡 Получаем эмбеддинги...\")\n",
    "embeddings = []\n",
    "\n",
    "for text in tqdm(texts_list):\n",
    "    try:\n",
    "        response = client.embeddings.create(\n",
    "            input=text[:2000],\n",
    "            model=\"text-embedding-ada-002\"\n",
    "        )\n",
    "        embeddings.append(response.data[0].embedding)\n",
    "    except Exception as e:\n",
    "        print(f\"⚠️ Ошибка: {e}\")\n",
    "        embeddings.append([0.0] * 1536)\n",
    "\n",
    "# Сохраняем как .npy и .csv\n",
    "np.save(\"email_dataset/train/embeddings_subset.npy\", np.array(embeddings))\n",
    "texts.to_csv(\"email_dataset/train/texts_subset.csv\", index=False)\n",
    "\n",
    "print(\"✅ Эмбеддинги и тексты сохранены!\")\n"
   ]
  },
  {
   "cell_type": "code",
   "execution_count": null,
   "id": "a991615a-02b0-4605-bbcf-0a2320e6ff5a",
   "metadata": {},
   "outputs": [],
   "source": [
    "import numpy as np\n",
    "import pandas as pd\n",
    "import matplotlib.pyplot as plt\n",
    "from sklearn.cluster import KMeans\n",
    "\n",
    "# Загрузка эмбеддингов\n",
    "embeddings = np.load(\"email_dataset/train/embeddings_subset.npy\")\n",
    "texts = pd.read_csv(\"email_dataset/train/texts_subset.csv\")\n",
    "\n",
    "# График локтя\n",
    "print(\"📈 Строим график локтя...\")\n",
    "inertias = []\n",
    "k_values = range(2, 11)\n",
    "\n",
    "for k in k_values:\n",
    "    kmeans = KMeans(n_clusters=k, random_state=42)\n",
    "    kmeans.fit(embeddings)\n",
    "    inertias.append(kmeans.inertia_)\n",
    "\n",
    "plt.figure(figsize=(8, 5))\n",
    "plt.plot(k_values, inertias, marker='o')\n",
    "plt.title(\"Метод локтя (OpenAI Embeddings + KMeans)\")\n",
    "plt.xlabel(\"Количество кластеров (k)\")\n",
    "plt.ylabel(\"Inertia\")\n",
    "plt.grid(True)\n",
    "plt.tight_layout()\n",
    "plt.show()\n",
    "\n",
    "# Дополнительно: сохраним модель KMeans с выбранным k\n",
    "k_opt = 4  # Задай вручную после графика\n",
    "final_kmeans = KMeans(n_clusters=k_opt, random_state=42)\n",
    "texts[\"cluster\"] = final_kmeans.fit_predict(embeddings)\n",
    "texts.to_csv(\"email_dataset/train/texts_with_clusters.csv\", index=False)\n",
    "\n",
    "from joblib import dump\n",
    "dump(final_kmeans, \"models/kmeans_openai_embeddings.joblib\")\n",
    "\n",
    "print(\"✅ Кластеры сохранены. Модель KMeans сохранена в models/\")\n"
   ]
  },
  {
   "cell_type": "code",
   "execution_count": 9,
   "id": "ef3e14db-1561-4df9-b297-9b986cb96a03",
   "metadata": {},
   "outputs": [
    {
     "name": "stdout",
     "output_type": "stream",
     "text": [
      "📊 Количество писем в каждом кластере:\n",
      "\n",
      "🟦 Кластер 0: 59 писем\n",
      "🟦 Кластер 1: 105 писем\n",
      "🟦 Кластер 2: 56 писем\n",
      "🟦 Кластер 3: 117 писем\n",
      "🟦 Кластер 4: 98 писем\n",
      "🟦 Кластер 5: 92 писем\n",
      "🟦 Кластер 6: 72 писем\n",
      "🟦 Кластер 7: 78 писем\n",
      "🟦 Кластер 8: 72 писем\n",
      "🟦 Кластер 9: 103 писем\n",
      "🟦 Кластер 10: 73 писем\n",
      "🟦 Кластер 11: 75 писем\n"
     ]
    }
   ],
   "source": [
    "import pandas as pd\n",
    "\n",
    "# Загрузка данных с кластерами\n",
    "df = pd.read_csv(\"email_dataset/train/texts_with_clusters.csv\")\n",
    "\n",
    "# Подсчёт количества примеров в каждом кластере\n",
    "cluster_counts = df[\"cluster\"].value_counts().sort_index()\n",
    "\n",
    "# Вывод результата\n",
    "print(\"📊 Количество писем в каждом кластере:\\n\")\n",
    "for cluster_id, count in cluster_counts.items():\n",
    "    print(f\"🟦 Кластер {cluster_id}: {count} писем\")\n"
   ]
  },
  {
   "cell_type": "code",
   "execution_count": 11,
   "id": "60520168-4b6b-447f-b848-e9e1294153b3",
   "metadata": {},
   "outputs": [
    {
     "data": {
      "image/png": "[encoded data removed]",
      "text/plain": [
       "<Figure size 800x500 with 1 Axes>"
      ]
     },
     "metadata": {},
     "output_type": "display_data"
    }
   ],
   "source": [
    "import matplotlib.pyplot as plt\n",
    "\n",
    "cluster_counts.plot(kind='bar', figsize=(8, 5), color='skyblue')\n",
    "plt.title(\"Распределение писем по кластерам\")\n",
    "plt.xlabel(\"ID кластера\")\n",
    "plt.ylabel(\"Количество писем\")\n",
    "plt.xticks(rotation=0)\n",
    "plt.grid(axis='y')\n",
    "plt.tight_layout()\n",
    "plt.show()\n"
   ]
  },
  {
   "cell_type": "code",
   "execution_count": 21,
   "id": "98834b26-8115-4824-916d-7be763238f7b",
   "metadata": {
    "scrolled": true
   },
   "outputs": [
    {
     "name": "stdout",
     "output_type": "stream",
     "text": [
      "\n",
      "🟦 Кластер 0\n",
      "  📩 Пример 1: trading credit legal legal houston cc: bcc: there will be two presentations tomorrow from ubs commencing at 2:30 p.m. (cst). these will be held in ecs 06980 and the conference dial-in numbers are listed below. 2:30 p.m. bill glass & bill bradford - credit 3:00 p.m. alex fusco - new business guidelines dial-in # host code 353763 (louise) participant 547763 many thanks, liz taylor assistant to greg whalley office fax mobile...\n",
      "\n",
      "  📩 Пример 2: chris--fyi--are you available for a meeting thursday, march 30 at 11:00 a.m. to discuss these issues? if so, will you ask kim to get a room for us for about an hour? thanks. ---------------------- forwarded by colleen sullivan/hou/ect on 03/28/2000 12:47 pm --------------------------- on 03/28/2000 12:34:07 pm cc: colleen, attached is an updated storage proxy schedule for coh and agl showing what our balance will be as of april 1, 2000. as always, if you have any questions, please let me know. i'm sending a copy of the document to denny pick for signature and will then send it to jeff hodge to get signature from enron. aside from the storage issue, there are several other items that we need to discuss. below is a brief description of each. please let me know how you think we could best deal with these - whether it's via phone call or having an in-person meeting down in your office. 1. pricing - i left you a message about this last week. according to chris germany, all changes to volume...\n",
      "\n",
      "  📩 Пример 3: cc: bcc: how could they justify going after only electronic traded deals. wouldn't they need to attack all deals done ever using a platt's price as a reference price ? good luck.....\n",
      "\n",
      "\n",
      "🟦 Кластер 1\n",
      "  📩 Пример 1: i was thinking a little younger...\n",
      "\n",
      "  📩 Пример 2: nice. i knew that would be a better choice. saturday night is on dog. we are going to golf sat also if you are in. let me know. tee time is at 11....\n",
      "\n",
      "  📩 Пример 3: more............\n",
      "\n",
      "\n",
      "🟦 Кластер 2\n",
      "  📩 Пример 1: good to hear gail is better! look at these @ enron .com , , . i will inquire further. debra perlingiere enron north america corp. legal department 1400 smith street, eb 3885 houston, texas 77002 phone fax...\n",
      "\n",
      "  📩 Пример 2: you are invited and we hope you can make it to this brown bag session. =01; hector g. mcloughlin, phr human resources enron net works office: =01;...\n",
      "\n",
      "  📩 Пример 3: gee thanks!! ok, i am woman enough to take on richard/ ? i thought if you were going to attend, i would offer to run interference between richard and ? for you. debra perlingiere enron north america corp. 1400 smith street, eb 3885 houston, texas 77002 phone fax...\n",
      "\n",
      "\n",
      "🟦 Кластер 3\n",
      "  📩 Пример 1: john...the 2 bookout are as follows: ms sells to enron enron sells to williams williams sells to ms 1) 100 mw of \"into soco\" f02-z04 peak @$33.25 2) 100 mw of \"into soco\" cal 03 peak. @$33.00 my phone number is \"lavorato, john\" wrote: > can you actually desribe in detail the book out trade. > term/price/location. just send me an email. include your phone number. > > thanks john > > > -----original message----- > > > > > > sent: friday, november 16, 2001 2:25 pm > > > > > > > > > > > > > > hi john, > > attached is the marks we are using to mark our books as of nov 15th. > > please > > have your guys drop in your marks for the same day and send back to > > us. this > > should clear up 90% of our differences. > > in addition, your help on some 3rd party book outs would help us > > reduce our > > overall position size. we were working on one with williams, when > > kevin presto > > objected unless he was able to earn the bid/offer. we would like to > > do the > > following: > > > > ms sell...\n",
      "\n",
      "  📩 Пример 2: i'm sending this again. it came back late today saying the delivery time had lapsed. sorry you did not get it yesterday. alison bailey ---------------------- forwarded by mary alison bailey/hou/ect on 10/31/2000 04:24 pm --------------------------- enron north america corp. warner/enron communications, scott bernie barcio/enron communications, andrew bill brian spector/enron communications, kate pushkar waymon patrick david jon greg william larry andrew stephen stenhouse/enron communications, trevor charles doug alhamd micha makowsky/enron communications, frank bay/enron communications, jaime gualy/enron communications, john john kelli patrick michelle aamir doug brian o'rourke/enron communications, david maskell/enron communications, michelle d john cc: please call or e-mail candidates who have received \"offers\".all of your hard work paid off - you have a great list of \"offers\". these students have all been called and will receive a letter/packet by the end of the week....\n",
      "\n",
      "  📩 Пример 3: cc: bcc: with respect to the attached list, a few things: 1. with respect to dynegy power marketing, my records reflect that they are approved for all products (including financial & power). can you let me know if your approvals reflect otherwise? 2. with respect to nicor gas company and northern illinois gas company: northern illinois gas company should be restyled to be \"northern illinois gas company d/b/a nicor gas company\". we have just received the executed isda master with this entity and that is how the counterparty directed us to set the master up. nicor gas company appears to be their physical gas trading arm, so that entity name should be left alone. i haven't forgotten the 8/11/00 list, i am waiting to hear back from australia about a question....\n",
      "\n",
      "\n",
      "🟦 Кластер 4\n",
      "  📩 Пример 1: cc: bcc: the buy and sale should net out, nothing to be billed to paid to tglo. the volumes should be the same on both sides. whoever backs up tom should reallocate in pops to make this happen. we had to show a buy/sale in order to schedule the delivery to tglo on a third party pipe. d katherine 11/17/2000 04:30 pm cc: megan julie tom daren- deal # 421859 sales deal # 421847 purchase settlements is showing both a sales and purchase for texas general land office and they are stating that they should not be billed or paid for anything. are these deals suppose to be a washout and netted together? if so, the volumes are not matching: the sales on hpl are 7,440 mmbtus on deal #421859 and the purchase on midtx is 6,629 mmbtus. let me know what type of deal this was intended to be. fyi i was told that tom acton was handling this deal, but i believe he will be out until after thanksgiving....\n",
      "\n",
      "  📩 Пример 2: pl-1 restriction lifted: effective for today's gas day (june 25, 2002), the restriction on interruptible and non-pl1 transportation capacity on the pl1 system has been lifted. dti appreciates your cooperation during the pigging process. fred wilson dominion transmission 8-630-3524 (tie-line)...\n",
      "\n",
      "  📩 Пример 3: jeff had just noticed this mistake and changed ctpy to sempra. thanks, kate stephanie piwetz 01/22/2001 12:43 pm cc: kate, checking out with amerex, jeff richter deal 502122.01 should cp be sempra? thanks stephanie...\n",
      "\n",
      "\n",
      "🟦 Кластер 5\n",
      "  📩 Пример 1: cc: bcc: john, lou, cutty, bill, i want to bring this issue back up for your attention, as i know that everyone is very busy. during the epa title v inspection at the laguna c/s this past week, barbara bernacek, the laguna environmental person was present. she had been asked to be there by the epa. during our tour of the facility, she casually asked if any progress or decision had been made by enron management towards remediation assistance in the groundwater issue at the laguna c/s. i had informed her that we were still actively discussing this issue and would contact her in the near future concerning management's decision. i would appreciate it very much if each of you would revisit my memo below and then lets discuss what should be done and the approach we should take in addressing the laguna's concern about a proactive approach to reaching cleanup and closure. ---------------------- forwarded by larry campbell/et&s/enron on 02/16/2001 08:43 am --------------------------- larry camp...\n",
      "\n",
      "  📩 Пример 2: -----original message----- sent: wednesday, december 12, 2001 9:53 am vince, over the past year and a half, i have been continually impressed with the richly diverse and highly collaborative working environment you created among members of the research group. as you know, i pay attention to \"people\" issues in my work, and seldom have i observed such a successful and diverse team environment. i believe that this experience is worth sharing with others and would like to write about it. the purpose of the project would be to capture and share learnings related to the dynamics of the research group; larger enron issues would not be included. the writing would be based on interviews with you and perhaps ten others in the department. anything i write would be approved by those who are quoted, and the complete article would be reviewed and approved by you before being shared outside. i do not expect to receive any financial support for the effort; i have some time now and enjoy doing the kind...\n",
      "\n",
      "  📩 Пример 3: bill, i think you are confusing me with john lavorato my coo. i am a university of saskatchewan grad. regardless, if i can help lets discuss in the new year. regards delainey ---------------------- forwarded by david w delainey/hou/ect on 12/22/2000 01:42 pm --------------------------- bill 12/21/2000 03:15 pm cc: dave, i understand that you are also a former uwo grad (please correct me if this is incorrect). are you involved in the decisions to recruit or provide sponsorship at ivey? the reason i ask is that the leader project at ivey is in need of a new lead sponsor and given the new developments in ontario and alberta with dereg, this may be a great opportunity to get enron's name out in the business community. i was very involved with the leader project when i was at ivey as one of the executive directors and oversaw general operations as well as the western region (i.e. ukraine and belarus). while enron may not have specific interests to promote in ukraine, russia, belarus, or kaz...\n",
      "\n",
      "\n",
      "🟦 Кластер 6\n",
      "  📩 Пример 1: here's the agreement with my changes (i think they show up in blue). i changed the \"permit' language and one date. cc: mark, pursuant to my message yesterday, please find an attached copy of wmi's agreement for your review. thanks, michael moulton...\n",
      "\n",
      "  📩 Пример 2: louie, i do not expect the navajos to abort this deal by a hard line position on the standard terms and conditions. i do expect that they will take a hard line position until they believe we mean what we say. we have had completely contradictory expressions from them--at one time they said they understood our concerns and thought they could accomodate them. at others times they have said \"standard terms and conditons, take it or leave it\". i agree with lynn that we should have very low expectations of federal courts relieving us of the terms of our deal--perhaps only to the extent the public interest demands it. this is clearly a management call, but i continue to recommend against taking the risks associated with the general terms and conditions. jim --- wrote: > larry ruzow met with the navajo doj (a jim fitting, > esq. ) yesterday > afternoon on another matter. in the course of the > meeting, > mr. fitting made clear that the doj will oppose any > deal that calls for > disputes to b...\n",
      "\n",
      "  📩 Пример 3: grant, one last change, kim ward agreed to reduce the penalty provisions in 3.2 and 3.4 from $0.15 to $0.015. the rest of the contract was unchanged. as stated in previous email, please forward two signed originals to me for enron's further handling....\n",
      "\n",
      "\n",
      "🟦 Кластер 7\n",
      "  📩 Пример 1: sony dvp-nc600 this is the model number for the dvd player -- it has the following outputs digital optical output (1) digital coaxial output (1) composite video outputs (2) s-video outputs (1) component video outputs (1)...\n",
      "\n",
      "  📩 Пример 2: dear benjamin c rogers; because you canceled your entry last year, you assured yourself a spot in the nyc marathon on november 3, 2002 without having to enter the lottery. all you need to do is register by may 1, 2002, in order to enter the 2002 marathon. you will be able to register online beginning january 31st. to do so, log on to type in your unique entry number and password--your entry number is 8782 and your password is 13rog68782 --and then follow the instructions. you'll have to verify or correct your personal information and then enter your payment information. if you'd prefer to register by mail, print out this message and return the bottom portion (or copy your entry number, name, and address onto a separate sheet of paper) along with a self-addressed, stamped, business-sized (#10) envelope entries, p.o. box 1388 gpo, new york, ny 10116. we will send you a special application to fill out and return by may 1, 2002, for guaranteed entry. having guaranteed entry to the new york...\n",
      "\n",
      "  📩 Пример 3: [image] fantasy basketball is here...and it's free! join a league or create your own. it's a slam dunk! run your fantasy basketball league for free with our fully-customizable league management service! the tab for sportsline's free fantasy football is being picked up by miller lite, our favorite beer around here. check them out offline at your local bar or online with us. grab a miller lite. it's miller time! what does carmen electra have in common with half.com? nothing, but man is she hot! visit half.com for half price on music, books, movies & games! gear up this nfl season with the best selection of licensed apparel for all 31 teams. visit the nfl fan shop at mvp.sportsline.com for all your needs...all season long!! brought to you by sponsorship bar you are receiving these e-reports because you have signed up for cbs sportsline fantasy football. to customize, reschedule, or turn off these reports please click here player updates?nfl reports? latest nfl player news jammi german , w...\n",
      "\n",
      "\n",
      "🟦 Кластер 8\n",
      "  📩 Пример 1: ---------------------- forwarded by david m gagliardi/ttg/houind on 08/29/2000 01:23 pm --------------------------- \"michael gagliardi\" on 08/29/2000 01:05:44 pm cc: ---------------------- forwarded by michael gagliardi/hou-comops/energytrading/pec on 08/29/2000 01:14 pm --------------------------- on 08/28/2000 10:03:27 pm cc: (bcc: michael gagliardi/hou-comops/energytrading/pec) true orange fax/e-mail service volume 8, fax/e-mail #80, monday, august 28, 2000 jerry scarbrough's true orange, p. o. box 26530, austin, texas 78755 - phone brown says horns have to improve running game the longhorns worked out twice monday, and coach mack brown praised the players for giving a great effort, but he also voiced concern about the lack of a consistent running game. \"we've talked to the line about being more physical and we've talked to the backs about running tougher, and we'll continue to work on that,\" he said. the lack of a consistent running game hurt the horns at the end of last season, an...\n",
      "\n",
      "  📩 Пример 2: carol st. clair eb 3892 (phone) (fax) ----- forwarded by carol st clair/hou/ect on 12/08/00 09:25 am ----- 12/08/00 07:51 am cc: dear carol stclair, thank you for ordering from harry and david. this e-mail is to let you know that the following item(s) shipped on 12/7/2000: order number: suzanne caver was shipped bear creek banquet via united states postal service please allow 7 business days for delivery. lynne smith was shipped favorites basket via united states postal service please allow 7 business days for delivery. mark taylor was shipped chocolate-lover's tower via united states postal service please allow 7 business days for delivery. items may be shipped separately. this notice only reflects items which have shipped today. we hope we have the opportunity to help you shop again soon: www.harryanddavid.com to e-mail our customer service department: www.harryanddavid.com/orders.html...\n",
      "\n",
      "  📩 Пример 3: ----- forwarded by mark taylor/hou/ect on 06/01/2001 06:28 pm ----- mark taylor 06/01/2001 06:21 pm cc: here are my pitiful attempts at photos from the trip:...\n",
      "\n",
      "\n",
      "🟦 Кластер 9\n",
      "  📩 Пример 1: cc: bcc: i'm up for wed. pm assuming a flight from denver to dc is available . martha--please check and make sure there is a late flight from denver to dc--leaving after 5 pm would be best. pls coordinate with jeff. thanks. ---------------------- forwarded by drew fossum/et&s/enron on 07/14/2000 11:06 am --------------------------- \"george briden\" on 07/14/2000 09:17:50 am cc: \"drew fossum\" jeff: please note the message below. if you can help us out, that would be great, but i have passed along the word that we need to wrap up with you by 3:30 or so. in any event, i'll see you there. gb ----- original message ----- cc: sent: friday, july 14, 2000 9:00 am > george, > > the address is: > > caithness corporation > 7887 e. belleview ave. suite 1100 > englewood, co 80111 > > > i have reserved a conference room for wednesday pm and all day thursday. > our office is located in the denver tech center. the marriott, hyatt, and > wyndam hotels are all located nearby. > > what time are we plannin...\n",
      "\n",
      "  📩 Пример 2: thanks for the note. i suggest you check with the airline or on the internet if you have access (www.trip.com has a great flight tracker that shows more than the airlines tell you) before you leave for the airport. since i'll have to check luggage, you can pretty safely assume it'll be 20 - 30 min. after the plane lands before i can hope to be at the curb. mark -----original message----- sent: thursday, august 30, 2001 7:45 am hey mark -- just checking in so you don't think i have forgotten you. i will be waiting in the black jeep outside of continental's baggage claim area. if i am not right there i might be circling to placate those annoying traffic cops. i won't be late. my cell is . amanda's is . see you on saturday! bill -----original message----- sent: tuesday, august 21, 2001 8:14 pm i'll be getting into newark on saturday the first on continental flight 206 at 2:21 p.m. mark taylor vice president and general counsel enron wholesale services *************************************...\n",
      "\n",
      "  📩 Пример 3: thanks a lot, dave. kate david poston 04/20/2001 08:57 am cc: kate diana andrew, please add kate symes to your list of california schedulers who need an h: drive in houston. id = ksymes thanks, poston...\n",
      "\n",
      "\n",
      "🟦 Кластер 10\n",
      "  📩 Пример 1: cc: bcc: recognizing the time constraints you face, i've tried to 1) clear up a few inaccuracies and 2) massage some of the sharper language without taking a chainsaw to the otherwise good job....\n",
      "\n",
      "  📩 Пример 2: p.s. i almost have the 6/22 list done. there is one more counterparty credit/power is working on. and i have the 6/23 and 6/26 lists done, i just have to write them up. i'll have them to you soon....\n",
      "\n",
      "  📩 Пример 3: pr mg' please find attached the above article from bridge news kind regards sarimah black...\n",
      "\n",
      "\n",
      "🟦 Кластер 11\n",
      "  📩 Пример 1: the above counterparty is approved for all products, except physical power (and the usual!)....\n",
      "\n",
      "  📩 Пример 2: business highlights enron freight markets despite an eroding economy and increasing scrutiny of enron, enron freight markets finished a record month in october, completing more than 4,000 transactions (50% growth from september) and adding over 200 new counterparties. volumes were especially strong in the last 10 days of the month. one of the big sources of transaction growth was increased volume from other major freight intermediaries, substantially bolstering efm's efforts to develop a wholesale market. enron global markets coal increased liquidity in the prompt months has brought more players into the spot rail market. traditionally a thin market in the otc market, the coal group is capitalizing on increased interest by introducing several new eol rail products. on the csx rail line, there will be two 12,500 btu products with different sulfur contents - 1.2 pound (or compliance) and 1.6 pound. the csx contract will be fob rail in the big sandy or kanawha rail districts. on the norfo...\n",
      "\n",
      "  📩 Пример 3: here's a presentation that west power fundamentals commisioned recently for use by government affairs in public arenas:...\n",
      "\n"
     ]
    }
   ],
   "source": [
    "import pandas as pd\n",
    "\n",
    "# Загрузка размеченных кластеров\n",
    "df = pd.read_csv(\"email_dataset/train/texts_with_clusters.csv\")\n",
    "\n",
    "# Количество примеров для просмотра\n",
    "n_samples = 3\n",
    "\n",
    "for cluster_id in sorted(df[\"cluster\"].unique()):\n",
    "    print(f\"\\n🟦 Кластер {cluster_id}\")\n",
    "    sample_texts = df[df[\"cluster\"] == cluster_id][\"clean_content\"].sample(n=n_samples, random_state=15)\n",
    "    for i, text in enumerate(sample_texts, 1):\n",
    "        print(f\"  📩 Пример {i}: {text[:1000]}...\\n\")"
   ]
  },
  {
   "cell_type": "code",
   "execution_count": 25,
   "id": "71f2eac5-1365-44fd-9af3-4874db352e8c",
   "metadata": {},
   "outputs": [],
   "source": [
    "cluster_to_label = {\n",
    "  \"0\": \"Regulatory, Master Agreements & Credit Guidelines\",\n",
    "  \"1\": \"Personal & Brief Work Messages\",\n",
    "  \"2\": \"Legal & HR Communications\",\n",
    "  \"3\": \"Counterparty Risk & Compliance Control\",\n",
    "  \"4\": \"Operational Trade & Flow Accounting\",\n",
    "  \"5\": \"Org Structure, Crisis Management & Recruiting\",\n",
    "  \"6\": \"Project Finance & Contract Correspondence\",\n",
    "  \"7\": \"Mass Marketing & Promotional Mailings\",\n",
    "  \"8\": \"Forwarded General Content & Personal Notes\",\n",
    "  \"9\": \"Meeting & Calendar Coordination\",\n",
    "  \"10\": \"Work Files, Models & P&L Reporting\",\n",
    "  \"11\": \"IT Notices, M&A Analytics & Industry Bulletins\"\n",
    "}\n",
    "\n",
    "df[\"category\"] = df[\"cluster\"].map(cluster_to_label)\n",
    "df.to_csv(\"email_dataset/train/texts_with_labels.csv\", index=False)\n",
    "\n",
    "print(\"✅ Кластеры переименованы в категории и сохранены.\")"
   ]
  },
  {
   "cell_type": "code",
   "execution_count": null,
   "id": "6ee2b75f-66ba-497d-8290-2b9754c988d2",
   "metadata": {},
   "outputs": [],
   "source": [
    "# scripts/prepare_finetune_jsonl.py"
   ]
  }
 ],
 "metadata": {
  "kernelspec": {
   "display_name": "Python 3 (ipykernel)",
   "language": "python",
   "name": "python3"
  },
  "language_info": {
   "codemirror_mode": {
    "name": "ipython",
    "version": 3
   },
   "file_extension": ".py",
   "mimetype": "text/x-python",
   "name": "python",
   "nbconvert_exporter": "python",
   "pygments_lexer": "ipython3",
   "version": "3.12.7"
  }
 },
 "nbformat": 4,
 "nbformat_minor": 5
}
